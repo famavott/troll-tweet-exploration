{
 "cells": [
  {
   "cell_type": "code",
   "execution_count": 112,
   "metadata": {
    "collapsed": false
   },
   "outputs": [],
   "source": [
    "import numpy as np\n",
    "import pandas as pd\n",
    "import matplotlib as mpl\n",
    "import matplotlib.pyplot as plt\n",
    "\n",
    "all_tweets = pd.read_csv('data/russian_bot_tweets.csv')\n",
    "pd.set_option('display.float_format', lambda x: '%.f' % x)\n",
    "pd.options.display.max_rows = 100"
   ]
  },
  {
   "cell_type": "code",
   "execution_count": 69,
   "metadata": {
    "collapsed": false,
    "scrolled": true
   },
   "outputs": [
    {
     "data": {
      "text/html": [
       "<div>\n",
       "<table border=\"1\" class=\"dataframe\">\n",
       "  <thead>\n",
       "    <tr style=\"text-align: right;\">\n",
       "      <th></th>\n",
       "      <th>user_id</th>\n",
       "      <th>user_key</th>\n",
       "      <th>created_at</th>\n",
       "      <th>created_str</th>\n",
       "      <th>retweet_count</th>\n",
       "      <th>retweeted</th>\n",
       "      <th>favorite_count</th>\n",
       "      <th>text</th>\n",
       "      <th>tweet_id</th>\n",
       "      <th>source</th>\n",
       "      <th>hashtags</th>\n",
       "      <th>expanded_urls</th>\n",
       "      <th>posted</th>\n",
       "      <th>mentions</th>\n",
       "      <th>retweeted_status_id</th>\n",
       "      <th>in_reply_to_status_id</th>\n",
       "    </tr>\n",
       "  </thead>\n",
       "  <tbody>\n",
       "    <tr>\n",
       "      <th>0</th>\n",
       "      <td>1868981054</td>\n",
       "      <td>ryanmaxwell_1</td>\n",
       "      <td>1458671502000</td>\n",
       "      <td>2016-03-22 18:31:42</td>\n",
       "      <td>nan</td>\n",
       "      <td>NaN</td>\n",
       "      <td>nan</td>\n",
       "      <td>#IslamKills Are you trying to say that there w...</td>\n",
       "      <td>712346027861405696</td>\n",
       "      <td>NaN</td>\n",
       "      <td>[\"IslamKills\"]</td>\n",
       "      <td>[]</td>\n",
       "      <td>POSTED</td>\n",
       "      <td>[]</td>\n",
       "      <td>nan</td>\n",
       "      <td>nan</td>\n",
       "    </tr>\n",
       "    <tr>\n",
       "      <th>1</th>\n",
       "      <td>2571870453</td>\n",
       "      <td>detroitdailynew</td>\n",
       "      <td>1476133020000</td>\n",
       "      <td>2016-10-10 20:57:00</td>\n",
       "      <td>0</td>\n",
       "      <td>False</td>\n",
       "      <td>0</td>\n",
       "      <td>Clinton: Trump should’ve apologized more, atta...</td>\n",
       "      <td>785584942356967424</td>\n",
       "      <td>&lt;a href=\"http://twitterfeed.com\" rel=\"nofollow...</td>\n",
       "      <td>[]</td>\n",
       "      <td>[\"http://detne.ws/2e172jF\"]</td>\n",
       "      <td>POSTED</td>\n",
       "      <td>[]</td>\n",
       "      <td>nan</td>\n",
       "      <td>nan</td>\n",
       "    </tr>\n",
       "    <tr>\n",
       "      <th>2</th>\n",
       "      <td>1710804738</td>\n",
       "      <td>cookncooks</td>\n",
       "      <td>1487767423000</td>\n",
       "      <td>2017-02-22 12:43:43</td>\n",
       "      <td>nan</td>\n",
       "      <td>NaN</td>\n",
       "      <td>nan</td>\n",
       "      <td>RT @ltapoll: Who was/is the best president of ...</td>\n",
       "      <td>834383165359788032</td>\n",
       "      <td>NaN</td>\n",
       "      <td>[]</td>\n",
       "      <td>[]</td>\n",
       "      <td>POSTED</td>\n",
       "      <td>[]</td>\n",
       "      <td>nan</td>\n",
       "      <td>nan</td>\n",
       "    </tr>\n",
       "  </tbody>\n",
       "</table>\n",
       "</div>"
      ],
      "text/plain": [
       "     user_id         user_key    created_at          created_str  \\\n",
       "0 1868981054    ryanmaxwell_1 1458671502000  2016-03-22 18:31:42   \n",
       "1 2571870453  detroitdailynew 1476133020000  2016-10-10 20:57:00   \n",
       "2 1710804738       cookncooks 1487767423000  2017-02-22 12:43:43   \n",
       "\n",
       "   retweet_count retweeted  favorite_count  \\\n",
       "0            nan       NaN             nan   \n",
       "1              0     False               0   \n",
       "2            nan       NaN             nan   \n",
       "\n",
       "                                                text           tweet_id  \\\n",
       "0  #IslamKills Are you trying to say that there w... 712346027861405696   \n",
       "1  Clinton: Trump should’ve apologized more, atta... 785584942356967424   \n",
       "2  RT @ltapoll: Who was/is the best president of ... 834383165359788032   \n",
       "\n",
       "                                              source        hashtags  \\\n",
       "0                                                NaN  [\"IslamKills\"]   \n",
       "1  <a href=\"http://twitterfeed.com\" rel=\"nofollow...              []   \n",
       "2                                                NaN              []   \n",
       "\n",
       "                 expanded_urls  posted mentions  retweeted_status_id  \\\n",
       "0                           []  POSTED       []                  nan   \n",
       "1  [\"http://detne.ws/2e172jF\"]  POSTED       []                  nan   \n",
       "2                           []  POSTED       []                  nan   \n",
       "\n",
       "   in_reply_to_status_id  \n",
       "0                    nan  \n",
       "1                    nan  \n",
       "2                    nan  "
      ]
     },
     "execution_count": 69,
     "metadata": {},
     "output_type": "execute_result"
    }
   ],
   "source": [
    "all_tweets.head(3)"
   ]
  },
  {
   "cell_type": "markdown",
   "metadata": {},
   "source": [
    "## Null / NaN values for each column"
   ]
  },
  {
   "cell_type": "code",
   "execution_count": 81,
   "metadata": {
    "collapsed": false
   },
   "outputs": [
    {
     "data": {
      "text/plain": [
       "user_id                    8065\n",
       "user_key                      0\n",
       "created_at                   21\n",
       "created_str                  21\n",
       "retweet_count            145399\n",
       "retweeted                145399\n",
       "favorite_count           145399\n",
       "text                         21\n",
       "tweet_id                   2314\n",
       "source                   145398\n",
       "hashtags                      0\n",
       "expanded_urls                 0\n",
       "posted                        0\n",
       "mentions                      0\n",
       "retweeted_status_id      163831\n",
       "in_reply_to_status_id    202923\n",
       "dtype: int64"
      ]
     },
     "execution_count": 81,
     "metadata": {},
     "output_type": "execute_result"
    }
   ],
   "source": [
    "all_tweets.apply(lambda x: sum(x.isnull()), axis=0)"
   ]
  },
  {
   "cell_type": "code",
   "execution_count": 106,
   "metadata": {
    "collapsed": false
   },
   "outputs": [
    {
     "data": {
      "text/plain": [
       "Timedelta('1169 days 15:00:37')"
      ]
     },
     "execution_count": 106,
     "metadata": {},
     "output_type": "execute_result"
    }
   ],
   "source": [
    "all_tweets['created_str'] = pd.to_datetime(all_tweets['created_str'])\n",
    "post_date = all_tweets['created_str']\n",
    "\n",
    "# Duration of tweets captured by date\n",
    "post_date.max() - post_date.min()"
   ]
  },
  {
   "cell_type": "code",
   "execution_count": 110,
   "metadata": {
    "collapsed": false
   },
   "outputs": [
    {
     "data": {
      "text/plain": [
       "0   18\n",
       "1   20\n",
       "2   12\n",
       "3   15\n",
       "4    2\n",
       "Name: created_str, dtype: float64"
      ]
     },
     "execution_count": 110,
     "metadata": {},
     "output_type": "execute_result"
    }
   ],
   "source": [
    "# More analysis of time/frequency\n",
    "post_date.dt.weekday_name.head()\n",
    "\n",
    "post_date.dt.hour.head()"
   ]
  },
  {
   "cell_type": "code",
   "execution_count": 123,
   "metadata": {
    "collapsed": false
   },
   "outputs": [
    {
     "data": {
      "text/plain": [
       "0   2016-03-22 18:31:42\n",
       "1   2016-10-10 20:57:00\n",
       "2   2017-02-22 12:43:43\n",
       "3   2016-12-26 15:06:41\n",
       "4   2017-08-06 02:36:24\n",
       "Name: created_str, dtype: datetime64[ns]"
      ]
     },
     "execution_count": 123,
     "metadata": {},
     "output_type": "execute_result"
    }
   ],
   "source": [
    "post_date.head()"
   ]
  },
  {
   "cell_type": "code",
   "execution_count": null,
   "metadata": {
    "collapsed": true
   },
   "outputs": [],
   "source": []
  }
 ],
 "metadata": {
  "kernelspec": {
   "display_name": "Python 3",
   "language": "python",
   "name": "python3"
  },
  "language_info": {
   "codemirror_mode": {
    "name": "ipython",
    "version": 3
   },
   "file_extension": ".py",
   "mimetype": "text/x-python",
   "name": "python",
   "nbconvert_exporter": "python",
   "pygments_lexer": "ipython3",
   "version": "3.6.2"
  }
 },
 "nbformat": 4,
 "nbformat_minor": 2
}
